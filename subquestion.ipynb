{
 "cells": [
  {
   "cell_type": "code",
   "execution_count": 1,
   "metadata": {},
   "outputs": [],
   "source": [
    "main_question = \"Can you tell me how we can reverse words in string 'I am a boy'?\"\n",
    "\n",
    "ideal_answer = '''#### Strategy\n",
    "Two Pointers.\n",
    "\n",
    "#### Explanation\n",
    "First, the algorithm splits the words of the sentence from a string into an array.\\\n",
    "The algorithm also initializes low and high pointers as the first and last indexes of the array.\\\n",
    "Then, the algorithm iterates the array.\n",
    "\n",
    "For each iteration, the algorithm swaps the words at the low and high pointers,\\\n",
    "increments and decrements the low and high pointers respectively,\\\n",
    "and repeats until the low pointer is greater than the high pointer.\n",
    "\n",
    "The result is all words of the sentence reversed in the array.\\\n",
    "The words are joined as a string again with a single space separating the words, and the string is returned.\n",
    "\n",
    "##### Time Complexity\n",
    "The algorithm updates the low and high pointers a number of times proportional to the number of words. \\\n",
    "Therefore, the time complexity of the algorithm is O(n), where n is the number of words.\n",
    "\n",
    "##### Space Complexity\n",
    "The algorithm splits the words from a sentence into an array. The array is auxiliary space and has length equal to the number of words.\\\n",
    "Therefore, the auxiliary space complexity of the algorithm is O(n).'''"
   ]
  },
  {
   "cell_type": "code",
   "execution_count": 2,
   "metadata": {},
   "outputs": [
    {
     "data": {
      "text/plain": [
       "True"
      ]
     },
     "execution_count": 2,
     "metadata": {},
     "output_type": "execute_result"
    }
   ],
   "source": [
    "from dotenv import load_dotenv\n",
    "load_dotenv()"
   ]
  },
  {
   "cell_type": "code",
   "execution_count": 3,
   "metadata": {},
   "outputs": [],
   "source": [
    "from langchain_groq import ChatGroq\n",
    "from typing import Annotated, TypedDict, Optional\n",
    "from langgraph.graph import StateGraph, START, END\n",
    "from langgraph.graph.message import add_messages\n",
    "from IPython.display import Image, display\n",
    "from langchain_core.prompts import ChatPromptTemplate, MessagesPlaceholder\n",
    "from pydantic import BaseModel"
   ]
  },
  {
   "cell_type": "code",
   "execution_count": 4,
   "metadata": {},
   "outputs": [],
   "source": [
    "llm = ChatGroq(model=\"llama-3.2-90b-text-preview\")"
   ]
  },
  {
   "cell_type": "code",
   "execution_count": 5,
   "metadata": {},
   "outputs": [],
   "source": [
    "class Candidate(BaseModel):\n",
    "    name: str\n",
    "    job_role: str\n",
    "\n",
    "class Evaluation(BaseModel):\n",
    "    is_correct: bool\n",
    "    evaluation: Optional[str] = None"
   ]
  },
  {
   "cell_type": "code",
   "execution_count": 6,
   "metadata": {},
   "outputs": [],
   "source": [
    "class State(TypedDict):\n",
    "    sub_history: Optional[str] = None\n",
    "    candidate_name: Optional[str] = None\n",
    "    role: Optional[str] = None\n",
    "    sub_question: Optional[str] = None\n",
    "    answer: Optional[str] = None\n",
    "    evaluation: Optional[str] = None\n",
    "    is_correct: Optional[bool] = None\n",
    "\n",
    "workflow = StateGraph(State)"
   ]
  },
  {
   "cell_type": "code",
   "execution_count": 7,
   "metadata": {},
   "outputs": [],
   "source": [
    "prompt_extraction = ChatPromptTemplate.from_messages(\n",
    "    [\n",
    "        (\n",
    "            \"system\",\n",
    "            \"You are an expert extraction algorithm. \"\n",
    "            \"Only extract relevant information from the text. \"\n",
    "            \"If you do not know the value of an attribute asked to extract, \"\n",
    "            \"return null for the attribute's value.\",\n",
    "        ),\n",
    "        (\"human\", \"{text}\"),\n",
    "    ]\n",
    ")\n",
    "\n",
    "prompt_evaluation = '''You are an expert evaluator. I have series of question and answers from user and an ideal overall answer. Determine if the user's answer matches the key points in the ideal answer.\n",
    "\n",
    "1. If the user's answer covers the essential points, return:\n",
    "   - is_correct: \"True\"\n",
    "   - evaluation: None\n",
    "\n",
    "2. If the user's answer does not cover the essential points, return:\n",
    "   - is_correct: \"False\"\n",
    "   - evaluation: Explain briefly what is lacking in the answer.\n",
    "\n",
    "**Here's the information for you:**\n",
    "\n",
    "- **Chat History:** {history}\n",
    "- **Ideal Answer:** {ideal_answer}'''\n",
    "\n",
    "\n",
    "prompt_sub_question = '''You are an interviewer. You are taking interview of {name}\n",
    "This is a interview so far:\n",
    "{history}\\n\n",
    "And here is evaluation of recent answer from user:\n",
    "{evaluation}\\n\n",
    "Ask a follow up based on this.'''\n",
    "\n",
    "prompt_verdict = '''How do you feel about the overall interview given below?\n",
    "{history}'''"
   ]
  },
  {
   "cell_type": "code",
   "execution_count": 8,
   "metadata": {},
   "outputs": [],
   "source": [
    "def introduction(state: State):\n",
    "    intro = \"Hi, I am Noha, can you please introduce yourself and what you do?\"\n",
    "    print(\"Noha: \", intro)\n",
    "    return {\"sub_history\":''}\n",
    "\n",
    "def handle_intro(state: State):\n",
    "    user_input = input(\"User: \")\n",
    "    runnable = prompt_extraction | llm.with_structured_output(schema=Candidate)\n",
    "    candidate = runnable.invoke({'text': user_input})\n",
    "    return {\"candidate_name\":candidate.name, \"role\":candidate.job_role}\n",
    "\n",
    "def ask_main_question(state: State):\n",
    "    question = main_question\n",
    "    print(\"Noha: \", question)\n",
    "    return {\"sub_history\":\"question: \"+question}\n",
    "\n",
    "def get_answer(state: State):\n",
    "    sub_history = state.get('sub_history', '').strip()\n",
    "    user_input = input(\"User: \")\n",
    "    return {\"sub_history\":sub_history+'\\n'+\"user: \"+user_input,\"answer\":user_input}\n",
    "\n",
    "def evaluate_answer(state: State):\n",
    "    sub_history = state.get('sub_history', '').strip()\n",
    "\n",
    "    prompt = prompt_evaluation.format(history=sub_history, ideal_answer=ideal_answer)\n",
    "    text = llm.invoke(prompt).content\n",
    "    runnable = prompt_extraction | llm.with_structured_output(schema=Evaluation)\n",
    "    eval = runnable.invoke({'text':text})\n",
    "    return {\"is_correct\":eval.is_correct, \"evaluation\":eval.evaluation}\n",
    "\n",
    "def ask_sub_question(state: State):\n",
    "    sub_history = state.get('sub_history', '').strip()\n",
    "    evaluation = state.get('evaluation', '').strip()\n",
    "    candidate_name = state.get('candidate_name', '').strip()\n",
    "\n",
    "    prompt = prompt_sub_question.format(name=candidate_name, history=sub_history, evaluation=evaluation)\n",
    "    question = llm.invoke(prompt).content\n",
    "    print(\"Noha: \", question)\n",
    "    return {\"sub_history\":sub_history+'\\n'+\"question: \"+question}\n",
    "\n",
    "def next_question(state: State):\n",
    "    print(\"Noha: Lets move to the next question.\")\n",
    "    return {\"sub_history\":''}"
   ]
  },
  {
   "cell_type": "code",
   "execution_count": 9,
   "metadata": {},
   "outputs": [],
   "source": [
    "def check_correct_answer(state: State):\n",
    "    if state.get('is_correct'):\n",
    "        return \"next_question\"\n",
    "    else:\n",
    "        return \"ask_sub_question\""
   ]
  },
  {
   "cell_type": "code",
   "execution_count": 10,
   "metadata": {},
   "outputs": [
    {
     "data": {
      "text/plain": [
       "<langgraph.graph.state.StateGraph at 0x1d5efda7ca0>"
      ]
     },
     "execution_count": 10,
     "metadata": {},
     "output_type": "execute_result"
    }
   ],
   "source": [
    "workflow.add_node(\"introduction\", introduction)\n",
    "workflow.add_node(\"handle_intro\", handle_intro)\n",
    "workflow.add_node(\"ask_main_question\", ask_main_question)\n",
    "workflow.add_node(\"get_answer\", get_answer)\n",
    "workflow.add_node(\"evaluate_answer\", evaluate_answer)\n",
    "workflow.add_node(\"ask_sub_question\", ask_sub_question)\n",
    "workflow.add_node(\"next_question\", next_question)"
   ]
  },
  {
   "cell_type": "code",
   "execution_count": 11,
   "metadata": {},
   "outputs": [
    {
     "data": {
      "text/plain": [
       "<langgraph.graph.state.StateGraph at 0x1d5efda7ca0>"
      ]
     },
     "execution_count": 11,
     "metadata": {},
     "output_type": "execute_result"
    }
   ],
   "source": [
    "workflow.add_conditional_edges(\n",
    "    \"evaluate_answer\",\n",
    "    check_correct_answer,\n",
    "    {\"ask_sub_question\":\"ask_sub_question\",\"next_question\":\"next_question\"}\n",
    "    )\n",
    "\n",
    "workflow.add_edge(START, \"introduction\")\n",
    "workflow.add_edge(\"introduction\",\"handle_intro\")\n",
    "workflow.add_edge(\"handle_intro\",\"ask_main_question\")\n",
    "workflow.add_edge(\"ask_main_question\",\"get_answer\")\n",
    "workflow.add_edge(\"get_answer\",\"evaluate_answer\")\n",
    "workflow.add_edge(\"ask_sub_question\",\"get_answer\")\n",
    "workflow.add_edge(\"next_question\",END)"
   ]
  },
  {
   "cell_type": "code",
   "execution_count": 12,
   "metadata": {},
   "outputs": [],
   "source": [
    "app = workflow.compile()"
   ]
  },
  {
   "cell_type": "code",
   "execution_count": 13,
   "metadata": {},
   "outputs": [
    {
     "data": {
      "image/jpeg": "[encoded data removed]",
      "text/plain": [
       "<IPython.core.display.Image object>"
      ]
     },
     "metadata": {},
     "output_type": "display_data"
    }
   ],
   "source": [
    "display(Image(app.get_graph().draw_mermaid_png()))"
   ]
  },
  {
   "cell_type": "code",
   "execution_count": null,
   "metadata": {},
   "outputs": [
    {
     "name": "stdout",
     "output_type": "stream",
     "text": [
      "Noha:  Hi, I am Noha, can you please introduce yourself and what you do?\n",
      "{'introduction': {'sub_history': ''}}\n",
      "{'handle_intro': {'candidate_name': 'Aniket', 'role': 'Data Scientist'}}\n",
      "Noha:  Can you tell me how we can reverse words in string 'I am a boy'?\n",
      "{'ask_main_question': {'sub_history': \"question: Can you tell me how we can reverse words in string 'I am a boy'?\"}}\n"
     ]
    }
   ],
   "source": [
    "for event in app.stream({\"sub_history\":'',\"candidate_name\":'',\"role\":'',\"total_questions\":0,\"question\":'',\"answer\":''}):\n",
    "    print(event)"
   ]
  }
 ],
 "metadata": {
  "kernelspec": {
   "display_name": ".venv",
   "language": "python",
   "name": "python3"
  },
  "language_info": {
   "codemirror_mode": {
    "name": "ipython",
    "version": 3
   },
   "file_extension": ".py",
   "mimetype": "text/x-python",
   "name": "python",
   "nbconvert_exporter": "python",
   "pygments_lexer": "ipython3",
   "version": "3.10.11"
  }
 },
 "nbformat": 4,
 "nbformat_minor": 2
}
